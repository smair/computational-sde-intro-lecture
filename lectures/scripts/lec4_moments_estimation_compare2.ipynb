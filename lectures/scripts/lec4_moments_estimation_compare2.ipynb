{
 "cells": [
  {
   "cell_type": "markdown",
   "source": [
    "In this notebook we exemplify some methods for estimating the conditional moments of SDE.\n",
    "\n",
    "Note that this notebook uses `jax`."
   ],
   "metadata": {
    "collapsed": false
   }
  },
  {
   "cell_type": "code",
   "execution_count": 7,
   "outputs": [],
   "source": [
    "import math\n",
    "import jax.numpy as jnp\n",
    "import jax.random\n",
    "import tme.base_jax as tme\n",
    "from functools import partial\n",
    "from jax.config import config\n",
    "import matplotlib.pyplot as plt\n",
    "\n",
    "config.update(\"jax_enable_x64\", True)"
   ],
   "metadata": {
    "collapsed": false
   }
  },
  {
   "cell_type": "markdown",
   "source": [
    "Define the SDE coefficients. This is a geometric Brownian motion. We are interested in computing $\\mathbb{E}[(X(t))^n \\mid X(0) = x_0]$ for some $n$, where in this example, we let $x_0 = 1$ and $t=0.1$."
   ],
   "metadata": {
    "collapsed": false
   }
  },
  {
   "cell_type": "code",
   "execution_count": 8,
   "outputs": [],
   "source": [
    "a, b = -3., 1.\n",
    "\n",
    "\n",
    "def drift(x):\n",
    "    return jnp.tanh(x)\n",
    "\n",
    "\n",
    "def dispersion(x):\n",
    "    return jnp.array([b])\n",
    "\n",
    "\n",
    "x0 = 0.\n",
    "t = 1."
   ],
   "metadata": {
    "collapsed": false
   }
  },
  {
   "cell_type": "markdown",
   "source": [
    "This SDE is analytically solvable, and its raw moments are also in closed-form."
   ],
   "metadata": {
    "collapsed": false
   }
  },
  {
   "cell_type": "code",
   "execution_count": 9,
   "outputs": [],
   "source": [
    "@partial(jax.vmap, in_axes=[0])\n",
    "def tme_raw_moment(order):\n",
    "    return tme.expectation(lambda u: u ** order, jnp.array([x0]), t,\n",
    "                           drift=drift, dispersion=dispersion, order=3)"
   ],
   "metadata": {
    "collapsed": false
   }
  },
  {
   "cell_type": "code",
   "execution_count": 10,
   "outputs": [
    {
     "data": {
      "text/plain": "DeviceArray([[nan],\n             [nan],\n             [nan]], dtype=float64)"
     },
     "execution_count": 10,
     "metadata": {},
     "output_type": "execute_result"
    }
   ],
   "source": [
    "# Moment orders of interests\n",
    "moment_orders = jnp.arange(1, 10)\n",
    "\n",
    "# Approximate raw moment using 3-order TME\n",
    "tme_raw_moment(jnp.array([1, 2, 3]))"
   ],
   "metadata": {
    "collapsed": false
   }
  },
  {
   "cell_type": "code",
   "execution_count": 11,
   "outputs": [],
   "source": [
    "z=tme.expectation(lambda u: u ** 2, jnp.array([x0]), t,\n",
    "                           drift=drift, dispersion=dispersion, order=3)[0]"
   ],
   "metadata": {
    "collapsed": false
   }
  },
  {
   "cell_type": "code",
   "execution_count": 12,
   "outputs": [
    {
     "data": {
      "text/plain": "DeviceArray(2., dtype=float64)"
     },
     "execution_count": 12,
     "metadata": {},
     "output_type": "execute_result"
    }
   ],
   "source": [
    "z"
   ],
   "metadata": {
    "collapsed": false
   }
  },
  {
   "cell_type": "code",
   "execution_count": 12,
   "outputs": [],
   "source": [],
   "metadata": {
    "collapsed": false
   }
  }
 ],
 "metadata": {
  "kernelspec": {
   "display_name": "Python 3",
   "language": "python",
   "name": "python3"
  },
  "language_info": {
   "codemirror_mode": {
    "name": "ipython",
    "version": 2
   },
   "file_extension": ".py",
   "mimetype": "text/x-python",
   "name": "python",
   "nbconvert_exporter": "python",
   "pygments_lexer": "ipython2",
   "version": "2.7.6"
  }
 },
 "nbformat": 4,
 "nbformat_minor": 0
}
