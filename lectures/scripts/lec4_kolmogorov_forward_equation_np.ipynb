{
 "cells": [
  {
   "cell_type": "markdown",
   "source": [
    "# A computational introduction to stochastic differential equations.\n",
    "\n",
    "Lecture 4.\n",
    "\n",
    "https://github.com/spdes/computational-sde-intro-lecture.\n",
    "\n",
    "Solve a Kolmogorov forward equation (a.k.a. Fokker--Planck) using finite difference."
   ],
   "metadata": {
    "collapsed": false
   }
  },
  {
   "cell_type": "code",
   "execution_count": 1,
   "outputs": [],
   "source": [
    "import math\n",
    "import numpy as np\n",
    "import scipy.stats\n",
    "import matplotlib.pyplot as plt\n",
    "\n",
    "np.random.seed(666)"
   ],
   "metadata": {
    "collapsed": false
   }
  },
  {
   "cell_type": "code",
   "execution_count": 2,
   "id": "d31926f9",
   "metadata": {},
   "outputs": [],
   "source": [
    "# Geometric Brownian motion SDE.\n",
    "\n",
    "a, b = -2., 1.\n",
    "\n",
    "\n",
    "def drift(x):\n",
    "    return a * x\n",
    "\n",
    "\n",
    "def dispersion(x):\n",
    "    return b * x"
   ]
  },
  {
   "cell_type": "code",
   "execution_count": 3,
   "id": "ba3bf30c",
   "metadata": {},
   "outputs": [],
   "source": [
    "# Times\n",
    "dt = 2e-5\n",
    "T = 10000\n",
    "ts = np.linspace(dt, dt * T, T)\n",
    "\n",
    "# Initial condition is a Normal(m0, var0)\n",
    "m0 = 2.\n",
    "var0 = 1."
   ]
  },
  {
   "cell_type": "code",
   "execution_count": 4,
   "outputs": [],
   "source": [
    "def simulate_true_trajectory(num_trajs: int):\n",
    "    \"\"\"We have access to the true solution of the geometric Brownian motion.\n",
    "    \"\"\"\n",
    "    x0s = m0 + math.sqrt(var0) * np.random.randn(num_trajs)\n",
    "    wss = np.cumsum(math.sqrt(dt) * np.random.randn(num_trajs, T), axis=1)\n",
    "    return x0s[:, None] * np.exp((a - b ** 2 / 2) * ts + b * wss)"
   ],
   "metadata": {
    "collapsed": false
   }
  },
  {
   "cell_type": "code",
   "execution_count": 5,
   "outputs": [],
   "source": [
    "num_trajs = 2000\n",
    "true_trajectories = simulate_true_trajectory(num_trajs)"
   ],
   "metadata": {
    "collapsed": false
   }
  },
  {
   "cell_type": "markdown",
   "source": [
    "Check the histogram at the terminal time."
   ],
   "metadata": {
    "collapsed": false
   }
  },
  {
   "cell_type": "code",
   "execution_count": 6,
   "outputs": [
    {
     "data": {
      "text/plain": "<Figure size 640x480 with 1 Axes>",
      "image/png": "[encoded data removed]"
     },
     "metadata": {},
     "output_type": "display_data"
    }
   ],
   "source": [
    "_ = plt.hist(true_trajectories[:, -1], density=True, bins=100)"
   ],
   "metadata": {
    "collapsed": false
   }
  },
  {
   "cell_type": "markdown",
   "source": [
    "We solve the Kolmogorov forward equation now using finite difference."
   ],
   "metadata": {
    "collapsed": false
   }
  },
  {
   "cell_type": "code",
   "execution_count": 7,
   "id": "b14484d9",
   "metadata": {},
   "outputs": [],
   "source": [
    "# Uniformly partition the spatial variable on [-2, 6] with 500 points\n",
    "N = 500\n",
    "xs = np.linspace(-2, 6, N)\n",
    "dx = xs[1] - xs[0]"
   ]
  },
  {
   "cell_type": "code",
   "execution_count": 8,
   "outputs": [],
   "source": [
    "def fpk_operator(ps):\n",
    "    \"\"\"Kolmogorov forward equation operator (unidimensional)\n",
    "    \"\"\"\n",
    "    derivative_drift = a\n",
    "    gamma = dispersion(xs) ** 2\n",
    "    derivative_gamma = 2 * b ** 2 * xs\n",
    "    second_derivative_gamma = 2 * b ** 2\n",
    "    derivative_p = np.gradient(ps, dx)\n",
    "    second_derivative_p = np.gradient(np.gradient(ps, dx), dx)\n",
    "\n",
    "    part1 = -(derivative_drift * ps + drift(xs) * derivative_p)\n",
    "    return part1 + 0.5 * (\n",
    "                second_derivative_gamma * ps + 2 * derivative_gamma * derivative_p + gamma * second_derivative_p)\n",
    "\n",
    "\n",
    "def euler(ps):\n",
    "    r\"\"\"Euler's method for solving the ODE.\n",
    "\n",
    "    p_k \\approx p_{k-1} + fpk_operator(p_{k-1}) * dt\n",
    "    \"\"\"\n",
    "    return ps + fpk_operator(ps) * dt\n",
    "\n",
    "\n",
    "def solve_fpk(p0):\n",
    "    \"\"\"Solve the Kolmogorov forward equation.\n",
    "    \"\"\"\n",
    "    pdfs = np.zeros((T, N))\n",
    "    ps = p0.copy()\n",
    "    for k in range(T):\n",
    "        ps = euler(ps)\n",
    "        pdfs[k, :] = ps\n",
    "    return pdfs"
   ],
   "metadata": {
    "collapsed": false
   }
  },
  {
   "cell_type": "code",
   "execution_count": 9,
   "id": "a0ffa0b9",
   "metadata": {},
   "outputs": [],
   "source": [
    "# Initial condition\n",
    "p0 = scipy.stats.norm.pdf(xs, m0, np.sqrt(var0))\n",
    "\n",
    "# Solve\n",
    "pdfs = solve_fpk(p0)"
   ]
  },
  {
   "cell_type": "markdown",
   "source": [
    "Check if the solution matches the sample histogram."
   ],
   "metadata": {
    "collapsed": false
   }
  },
  {
   "cell_type": "code",
   "execution_count": 10,
   "id": "beabceda",
   "metadata": {},
   "outputs": [
    {
     "data": {
      "text/plain": "<Figure size 640x480 with 1 Axes>",
      "image/png": "[encoded data removed]"
     },
     "metadata": {},
     "output_type": "display_data"
    }
   ],
   "source": [
    "# choose any time k you wish\n",
    "k = -1\n",
    "_ = plt.hist(true_trajectories[:, k], density=True, bins=50)\n",
    "_ = plt.plot(xs, pdfs[k, :])"
   ]
  }
 ],
 "metadata": {
  "kernelspec": {
   "display_name": "Python 3 (ipykernel)",
   "language": "python",
   "name": "python3"
  },
  "language_info": {
   "codemirror_mode": {
    "name": "ipython",
    "version": 3
   },
   "file_extension": ".py",
   "mimetype": "text/x-python",
   "name": "python",
   "nbconvert_exporter": "python",
   "pygments_lexer": "ipython3",
   "version": "3.9.12"
  }
 },
 "nbformat": 4,
 "nbformat_minor": 5
}
